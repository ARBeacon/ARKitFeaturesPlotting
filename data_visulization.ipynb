{
 "cells": [
  {
   "cell_type": "code",
   "execution_count": 1,
   "metadata": {},
   "outputs": [],
   "source": [
    "import json\n",
    "\n",
    "def read_json_file(file_path: str):\n",
    "    with open(file_path, 'r') as json_file:\n",
    "        data = json.load(json_file)\n",
    "    return data\n",
    "        \n",
    "file_path = 'library.json'\n",
    "library = read_json_file(file_path)"
   ]
  },
  {
   "cell_type": "code",
   "execution_count": 2,
   "metadata": {},
   "outputs": [
    {
     "data": {
      "text/plain": [
       "dict_keys(['2024-09-14_17-31-17.json', '2024-09-14_17-40-11.json', '2024-09-14_17-36-03.json'])"
      ]
     },
     "execution_count": 2,
     "metadata": {},
     "output_type": "execute_result"
    }
   ],
   "source": [
    "library.keys()"
   ]
  },
  {
   "cell_type": "code",
   "execution_count": 3,
   "metadata": {},
   "outputs": [],
   "source": [
    "first_scan = library['2024-09-14_17-31-17.json']\n",
    "secound_scan = library['2024-09-14_17-36-03.json']"
   ]
  },
  {
   "cell_type": "code",
   "execution_count": 4,
   "metadata": {},
   "outputs": [],
   "source": [
    "import numpy as np\n",
    "def translate(points, offset):\n",
    "    \"\"\"\n",
    "    Translate points by an offset.\n",
    "    :param points: List of [x, y, z] points\n",
    "    :param offset: Offset to translate points [dx, dy, dz]\n",
    "    :return: Translated points\n",
    "    \"\"\"\n",
    "    translation_matrix = np.array(offset)\n",
    "    translated_points = points + translation_matrix\n",
    "    return translated_points\n",
    "\n",
    "def rotate(points, angle, axis):\n",
    "    \"\"\"\n",
    "    Rotate points around an axis by a certain angle.\n",
    "    :param points: List of [x, y, z] points\n",
    "    :param angle: Angle in degree\n",
    "    :param axis: Axis to rotate around ('x', 'y', or 'z')\n",
    "    :return: Rotated points\n",
    "    \"\"\"\n",
    "\n",
    "    angle = np.deg2rad(angle)\n",
    "    if axis == 'x':\n",
    "        rotation_matrix = np.array([[1, 0, 0],\n",
    "                                    [0, np.cos(angle), -np.sin(angle)],\n",
    "                                    [0, np.sin(angle), np.cos(angle)]])\n",
    "    elif axis == 'y':\n",
    "        rotation_matrix = np.array([[np.cos(angle), 0, np.sin(angle)],\n",
    "                                    [0, 1, 0],\n",
    "                                    [-np.sin(angle), 0, np.cos(angle)]])\n",
    "    elif axis == 'z':\n",
    "        rotation_matrix = np.array([[np.cos(angle), -np.sin(angle), 0],\n",
    "                                    [np.sin(angle), np.cos(angle), 0],\n",
    "                                    [0, 0, 1]])\n",
    "    else:\n",
    "        raise ValueError(\"Axis must be 'x', 'y', or 'z'\")\n",
    "\n",
    "    rotated_points = np.dot(points, rotation_matrix.T)\n",
    "    return rotated_points\n",
    "\n",
    "def transform_points(points, settings):\n",
    "    \"\"\"\n",
    "    Transform points by translation and rotation.\n",
    "    :param points: List of [x, y, z] points\n",
    "    :param settings: Dictionary containing 'offset', 'angles', and 'axes' keys\n",
    "    :return: Transformed points\n",
    "    \"\"\"\n",
    "    offset = settings.get('offset', [0, 0, 0])\n",
    "    angles = settings.get('angles', [])\n",
    "    axes = settings.get('axes', [])\n",
    "    \n",
    "    points = np.array(points)\n",
    "    points = translate(points, offset)\n",
    "    \n",
    "    for angle, axis in zip(angles, axes):\n",
    "        points = rotate(points, angle, axis)\n",
    "    \n",
    "    return points\n",
    "\n",
    "def transform_point(point, settings):\n",
    "    return transform_points([point], settings)[0]\n",
    "\n",
    "# Example usage\n",
    "points = [[1, 2, 3], [4, 5, 6], [7, 8, 9]]  # List of 3D points\n",
    "settings = {\n",
    "    'offset': [1, 1, 1],  # Translation offset\n",
    "    'angles': [30, 45, 30],  # Angles for rotation in radians\n",
    "    'axes': ['x', 'y', 'z']  # Corresponding axes for the angles\n",
    "}\n",
    "\n",
    "# transformed_points = transform_points(points, settings)\n",
    "# print(\"Transformed points:\\n\", transformed_points)"
   ]
  },
  {
   "cell_type": "code",
   "execution_count": 5,
   "metadata": {},
   "outputs": [],
   "source": [
    "def point_cloud_with_zscore_filter(mean_points_cloud_dict, z_scores_threshold = 2.0):\n",
    "    mean_coordinates = np.mean(list(mean_points_cloud_dict.values()), axis=0)\n",
    "    std_dev_coordinates = np.std(list(mean_points_cloud_dict.values()), axis=0)\n",
    "\n",
    "    filtered_identifier = set()\n",
    "    for (identifier, point) in mean_points_cloud_dict.items():\n",
    "        z_scores = np.abs((point - mean_coordinates) / std_dev_coordinates)\n",
    "        z_scores = np.nan_to_num(z_scores)\n",
    "        if np.all(z_scores < z_scores_threshold):\n",
    "            filtered_identifier.add(identifier)\n",
    "\n",
    "    return filtered_identifier"
   ]
  },
  {
   "cell_type": "code",
   "execution_count": 6,
   "metadata": {},
   "outputs": [],
   "source": [
    "first_filtered_identifier = list(point_cloud_with_zscore_filter(first_scan['feature_points_mean']))\n",
    "secound_filtered_identifier = list(point_cloud_with_zscore_filter(secound_scan['feature_points_mean']))"
   ]
  },
  {
   "cell_type": "code",
   "execution_count": 7,
   "metadata": {},
   "outputs": [],
   "source": [
    "import pyvista as pv"
   ]
  },
  {
   "cell_type": "code",
   "execution_count": 8,
   "metadata": {},
   "outputs": [
    {
     "data": {
      "application/vnd.jupyter.widget-view+json": {
       "model_id": "5efe0e541698425185c899e54a3e4e3b",
       "version_major": 2,
       "version_minor": 0
      },
      "text/plain": [
       "Widget(value='<iframe src=\"http://localhost:51302/index.html?ui=P_0x109565c10_0&reconnect=auto\" class=\"pyvista…"
      ]
     },
     "metadata": {},
     "output_type": "display_data"
    }
   ],
   "source": [
    "transform = {\n",
    "                'offset': [1.25, -0.07, -1.8],  # Translation offset\n",
    "                'angles': [0, 25, 0],  # Angles for rotation in radians\n",
    "                'axes': ['x','y','z']  # Corresponding axes for the angles\n",
    "            }\n",
    "\n",
    "points1 = np.array([first_scan['feature_points_mean'][identifier] for identifier in first_filtered_identifier])\n",
    "alphas1 = np.array([first_scan['feature_points_appearing_conunt_normalized'][identifier] for identifier in first_filtered_identifier])\n",
    "\n",
    "points2 = np.array([secound_scan['feature_points_mean'][identifier] for identifier in secound_filtered_identifier])\n",
    "alphas2 = np.array([secound_scan['feature_points_appearing_conunt_normalized'][identifier] for identifier in secound_filtered_identifier])\n",
    "points2 = transform_points(points2, transform)\n",
    "\n",
    "plotter = pv.Plotter()\n",
    "\n",
    "cloud1 = pv.PolyData(points1)\n",
    "cloud1[\"alpha\"] = alphas1\n",
    "plotter.add_mesh(cloud1, render_points_as_spheres=True, point_size=2, scalars=\"alpha\", opacity=\"alpha\", cmap=['g'])\n",
    "\n",
    "cloud2 = pv.PolyData(points2)\n",
    "cloud2[\"alpha\"] = alphas2\n",
    "plotter.add_mesh(cloud2, render_points_as_spheres=True, point_size=2, scalars=\"alpha\", opacity=\"alpha\", cmap=['b'])\n",
    "\n",
    "plotter.add_axes()\n",
    "plotter.show_grid(color='black')\n",
    "\n",
    "plotter.camera_position = 'xy'\n",
    "\n",
    "plotter.show()"
   ]
  },
  {
   "cell_type": "code",
   "execution_count": 9,
   "metadata": {},
   "outputs": [],
   "source": [
    "def filter_dict_by_keys(original_dict, keys_to_keep):\n",
    "    \"\"\"\n",
    "    Returns a new dictionary containing only the keys specified in keys_to_keep.\n",
    "\n",
    "    Args:\n",
    "    - original_dict (dict): The original dictionary to filter.\n",
    "    - keys_to_keep (set or list): The set or list of keys to keep in the new dictionary.\n",
    "\n",
    "    Returns:\n",
    "    - dict: A new dictionary containing only the specified keys.\n",
    "    \"\"\"\n",
    "    return {key: value for key, value in original_dict.items() if key in keys_to_keep}"
   ]
  },
  {
   "cell_type": "code",
   "execution_count": 10,
   "metadata": {},
   "outputs": [],
   "source": [
    "intersec_identifiers = set(first_filtered_identifier).intersection(secound_filtered_identifier)\n",
    "alphas1dict = filter_dict_by_keys(first_scan['feature_points_appearing_conunt_normalized'], intersec_identifiers)\n",
    "alphas2dict = filter_dict_by_keys(secound_scan['feature_points_appearing_conunt_normalized'], intersec_identifiers)"
   ]
  },
  {
   "cell_type": "code",
   "execution_count": 11,
   "metadata": {},
   "outputs": [],
   "source": [
    "sum_alpha = {key: alphas1dict[key]+alphas2dict[key] for key in intersec_identifiers}"
   ]
  },
  {
   "cell_type": "code",
   "execution_count": 12,
   "metadata": {},
   "outputs": [
    {
     "data": {
      "text/plain": [
       "'1595164'"
      ]
     },
     "execution_count": 12,
     "metadata": {},
     "output_type": "execute_result"
    }
   ],
   "source": [
    "import random\n",
    "\n",
    "def weighted_sample(d):\n",
    "    total_weight = sum(d.values())\n",
    "    rand_value = random.uniform(0, total_weight)\n",
    "    cumulative_weight = 0.0\n",
    "    \n",
    "    for key, weight in d.items():\n",
    "        cumulative_weight += weight\n",
    "        if rand_value < cumulative_weight:\n",
    "            return key\n",
    "weighted_sample(sum_alpha)"
   ]
  },
  {
   "cell_type": "code",
   "execution_count": 13,
   "metadata": {},
   "outputs": [],
   "source": [
    "limit_sample = 50\n",
    "sample_identifier = list(set(weighted_sample(sum_alpha) for i in range(limit_sample)))"
   ]
  },
  {
   "cell_type": "code",
   "execution_count": 14,
   "metadata": {},
   "outputs": [],
   "source": [
    "transform = {\n",
    "                'offset': [1.25, -0.07, -1.8],  # Translation offset\n",
    "                'angles': [0, 25, 0],  # Angles for rotation in radians\n",
    "                'axes': ['x','y','z']  # Corresponding axes for the angles\n",
    "            }"
   ]
  },
  {
   "cell_type": "code",
   "execution_count": 15,
   "metadata": {},
   "outputs": [
    {
     "data": {
      "text/plain": [
       "[([1.0884215666666677, -0.5799520933333334, -2.7259791166666676],\n",
       "  array([-0.20676995, -0.0316412 , -4.31562863])),\n",
       " ([0.33826247266666626, -0.560323314666666, -4.299858286666669],\n",
       "  array([-0.82183651, -0.80766104, -3.77553613])),\n",
       " ([0.6523416648148148, -1.5904987796296297, -4.762367374074072],\n",
       "  array([-0.74261694, -0.55563632, -4.74995322]))]"
      ]
     },
     "execution_count": 15,
     "metadata": {},
     "output_type": "execute_result"
    }
   ],
   "source": [
    "lines = [ (first_scan['feature_points_mean'][identifier], transform_point(secound_scan['feature_points_mean'][identifier], transform)) for identifier in sample_identifier ]\n",
    "lines[:3]"
   ]
  },
  {
   "cell_type": "code",
   "execution_count": 16,
   "metadata": {},
   "outputs": [],
   "source": [
    "def findDistanceBetweenPoints(p1: np.array, p2: np.array) -> float:\n",
    "    \"\"\"\n",
    "    Calculate the Euclidean distance between two 3D points.\n",
    "\n",
    "    Parameters:\n",
    "    p1 (np.array): The first point [x1, y1, z1]\n",
    "    p2 (np.array): The second point [x2, y2, z2]\n",
    "\n",
    "    Returns:\n",
    "    float: The Euclidean distance between the two points.\n",
    "    \"\"\"\n",
    "    return np.linalg.norm(p1 - p2)"
   ]
  },
  {
   "cell_type": "code",
   "execution_count": 17,
   "metadata": {},
   "outputs": [
    {
     "data": {
      "text/plain": [
       "array([[ 1.08842157, -0.57995209, -2.72597912],\n",
       "       [-0.20676995, -0.0316412 , -4.31562863],\n",
       "       [ 0.33826247, -0.56032331, -4.29985829],\n",
       "       [-0.82183651, -0.80766104, -3.77553613],\n",
       "       [ 0.65234166, -1.59049878, -4.76236737]])"
      ]
     },
     "execution_count": 17,
     "metadata": {},
     "output_type": "execute_result"
    }
   ],
   "source": [
    "lines_point = []\n",
    "line_dif = []\n",
    "\n",
    "for line in lines:\n",
    "    lines_point.append(line[0])\n",
    "    lines_point.append(line[1])\n",
    "    line_dif.append(findDistanceBetweenPoints(line[0],line[1]))\n",
    "\n",
    "lines_point = np.array(lines_point)\n",
    "\n",
    "lines_point[:5]\n"
   ]
  },
  {
   "cell_type": "code",
   "execution_count": 18,
   "metadata": {},
   "outputs": [
    {
     "data": {
      "image/png": "[encoded data removed]",
      "text/plain": [
       "<Figure size 640x480 with 1 Axes>"
      ]
     },
     "metadata": {},
     "output_type": "display_data"
    }
   ],
   "source": [
    "import matplotlib.pyplot as plt\n",
    "\n",
    "# Calculate the statistics\n",
    "mean = np.mean(line_dif)\n",
    "median = np.median(line_dif)\n",
    "minimum = np.min(line_dif)\n",
    "maximum = np.max(line_dif)\n",
    "std_dev = np.std(line_dif)\n",
    "\n",
    "# Creating a dictionary for ease of plotting\n",
    "stats = {\n",
    "    'Mean': mean,\n",
    "    'Median': median,\n",
    "    'Min': minimum,\n",
    "    'Max': maximum,\n",
    "    'Std Dev': std_dev\n",
    "}\n",
    "\n",
    "# Plotting the statistics\n",
    "fig, ax = plt.subplots()\n",
    "ax.bar(stats.keys(), stats.values(), color=['blue', 'orange', 'green', 'red', 'purple'])\n",
    "\n",
    "# Adding title and labels\n",
    "ax.set_title('Statistical Measures of the same-Identifier Point differences between AR session')\n",
    "ax.set_ylabel('Difference (meters)')\n",
    "\n",
    "# Display the plot\n",
    "plt.show()"
   ]
  },
  {
   "cell_type": "code",
   "execution_count": 19,
   "metadata": {},
   "outputs": [
    {
     "data": {
      "application/vnd.jupyter.widget-view+json": {
       "model_id": "e0c89c9589f74b00b2753fddac7c5a58",
       "version_major": 2,
       "version_minor": 0
      },
      "text/plain": [
       "Widget(value='<iframe src=\"http://localhost:51302/index.html?ui=P_0x1609a8130_1&reconnect=auto\" class=\"pyvista…"
      ]
     },
     "metadata": {},
     "output_type": "display_data"
    }
   ],
   "source": [
    "points1 = np.array([first_scan['feature_points_mean'][identifier] for identifier in first_filtered_identifier])\n",
    "alphas1 = np.array([first_scan['feature_points_appearing_conunt_normalized'][identifier] for identifier in first_filtered_identifier])\n",
    "\n",
    "points2 = np.array([secound_scan['feature_points_mean'][identifier] for identifier in secound_filtered_identifier])\n",
    "alphas2 = np.array([secound_scan['feature_points_appearing_conunt_normalized'][identifier] for identifier in secound_filtered_identifier])\n",
    "points2 = transform_points(points2, transform)\n",
    "\n",
    "plotter = pv.Plotter()\n",
    "\n",
    "cloud1 = pv.PolyData(points1)\n",
    "cloud1[\"alpha\"] = alphas1\n",
    "plotter.add_mesh(cloud1, render_points_as_spheres=True, point_size=2, scalars=\"alpha\", opacity=\"alpha\", cmap=['g'])\n",
    "\n",
    "cloud2 = pv.PolyData(points2)\n",
    "cloud2[\"alpha\"] = alphas2\n",
    "plotter.add_mesh(cloud2, render_points_as_spheres=True, point_size=2, scalars=\"alpha\", opacity=\"alpha\", cmap=['b'])\n",
    "\n",
    "plotter.add_lines(lines_point, color='purple', width=1)\n",
    "\n",
    "plotter.add_axes()\n",
    "plotter.show_grid(color='black')\n",
    "\n",
    "plotter.camera_position = 'xy'\n",
    "\n",
    "plotter.show()"
   ]
  }
 ],
 "metadata": {
  "kernelspec": {
   "display_name": "Python 3 (ipykernel)",
   "language": "python",
   "name": "python3"
  },
  "language_info": {
   "codemirror_mode": {
    "name": "ipython",
    "version": 3
   },
   "file_extension": ".py",
   "mimetype": "text/x-python",
   "name": "python",
   "nbconvert_exporter": "python",
   "pygments_lexer": "ipython3",
   "version": "3.9.6"
  }
 },
 "nbformat": 4,
 "nbformat_minor": 4
}
